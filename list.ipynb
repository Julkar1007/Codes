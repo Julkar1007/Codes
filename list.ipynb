{
  "nbformat": 4,
  "nbformat_minor": 0,
  "metadata": {
    "colab": {
      "provenance": [],
      "authorship_tag": "ABX9TyMfjZxSGAeWjQkwG8Qv5l+p",
      "include_colab_link": true
    },
    "kernelspec": {
      "name": "python3",
      "display_name": "Python 3"
    },
    "language_info": {
      "name": "python"
    }
  },
  "cells": [
    {
      "cell_type": "markdown",
      "metadata": {
        "id": "view-in-github",
        "colab_type": "text"
      },
      "source": [
        "<a href=\"https://colab.research.google.com/github/Julkar1007/Codes/blob/main/list.ipynb\" target=\"_parent\"><img src=\"https://colab.research.google.com/assets/colab-badge.svg\" alt=\"Open In Colab\"/></a>"
      ]
    },
    {
      "cell_type": "code",
      "execution_count": null,
      "metadata": {
        "id": "9QX3WX9bHp90"
      },
      "outputs": [],
      "source": []
    },
    {
      "cell_type": "markdown",
      "source": [
        "# Agenda\n",
        "1. list\n",
        "2. creating list\n",
        "3. herating list\n",
        "4. list operations\n",
        "5. list slicing\n",
        "6. list sorting\n",
        "7. creating tuple\n",
        "8. iterating tuple\n",
        "9. inserting inti tuple\n",
        "10. Unpacking sequences\n"
      ],
      "metadata": {
        "id": "61VsXfWbHu_9"
      }
    },
    {
      "cell_type": "markdown",
      "source": [
        "# **Creating List**"
      ],
      "metadata": {
        "id": "Ogb9GDvEKk7d"
      }
    },
    {
      "cell_type": "code",
      "source": [
        "list0=[1,2,3,32,2.23,43.28,\"python\",[2,32,3]]\n",
        "print(list0)\n",
        "type(list0[-1])"
      ],
      "metadata": {
        "colab": {
          "base_uri": "https://localhost:8080/"
        },
        "id": "gfAaqUE1Iepd",
        "outputId": "5a6a93e8-1bf9-43bc-b2b3-6bee500489cd"
      },
      "execution_count": null,
      "outputs": [
        {
          "output_type": "stream",
          "name": "stdout",
          "text": [
            "[1, 2, 3, 32, 2.23, 43.28, 'python', [2, 32, 3]]\n"
          ]
        },
        {
          "output_type": "execute_result",
          "data": {
            "text/plain": [
              "list"
            ]
          },
          "metadata": {},
          "execution_count": 40
        }
      ]
    },
    {
      "cell_type": "code",
      "source": [
        "list1=[]\n",
        "print(list1)\n",
        "list2=[]\n",
        "print(list2)"
      ],
      "metadata": {
        "colab": {
          "base_uri": "https://localhost:8080/"
        },
        "id": "ot4qKwQuKSUt",
        "outputId": "d39ba207-0b82-4fc9-e60f-e0a2bcc84af2"
      },
      "execution_count": null,
      "outputs": [
        {
          "output_type": "stream",
          "name": "stdout",
          "text": [
            "[]\n",
            "[]\n"
          ]
        }
      ]
    },
    {
      "cell_type": "markdown",
      "source": [
        "# **Iterating List**"
      ],
      "metadata": {
        "id": "2FWUevLqKwZ9"
      }
    },
    {
      "cell_type": "code",
      "source": [
        "list0=[1,2,3,32,2.23,43.28,\"python\",[2,32,3]]\n",
        "for i in list0:\n",
        "  print(i,end=' ')\n",
        "print('')  "
      ],
      "metadata": {
        "colab": {
          "base_uri": "https://localhost:8080/"
        },
        "id": "Y5W1vdtSK5wd",
        "outputId": "0ab88ed4-676b-4116-96f3-a4f9dcce941e"
      },
      "execution_count": null,
      "outputs": [
        {
          "output_type": "stream",
          "name": "stdout",
          "text": [
            "1 2 3 32 2.23 43.28 python [2, 32, 3] \n"
          ]
        }
      ]
    },
    {
      "cell_type": "code",
      "source": [
        "list0=[1,2,3,32,2.23,43.28,\"python\",[2,32,3]]\n",
        "print(list0[2])\n",
        "print(list0[2])\n",
        "print(list0[6])\n",
        "print(list0[-2])\n",
        "print(list0[-7])"
      ],
      "metadata": {
        "colab": {
          "base_uri": "https://localhost:8080/"
        },
        "id": "dYzXribyLUjZ",
        "outputId": "2d9f74fa-f29e-4263-fb9b-39695bcc87cd"
      },
      "execution_count": null,
      "outputs": [
        {
          "output_type": "stream",
          "name": "stdout",
          "text": [
            "3\n",
            "3\n",
            "python\n",
            "python\n",
            "2\n"
          ]
        }
      ]
    },
    {
      "cell_type": "code",
      "source": [
        "#list Operations\n",
        "list1=[1,2,3,32,2.23,43.28,\"python\",[2,32,3]]\n",
        "print(len(list1))\n",
        "\n",
        "list1.append([12,2,12,2])\n",
        "print(list1)\n",
        "\n",
        "list1.insert(2,\"pandas\")\n",
        "print(list1)\n",
        "\n",
        "list1.remove(32)\n",
        "print(list1)\n",
        "\n",
        "print(list1.index(\"python\"))\n",
        "\n",
        "print(list1.count(\"pandas\"))\n",
        "\n",
        "print(list1.reverse())\n",
        "\n",
        "list0=list1.copy()\n",
        "print(list0)\n",
        "\n",
        "list1.clear()\n",
        "print(list1)"
      ],
      "metadata": {
        "colab": {
          "base_uri": "https://localhost:8080/"
        },
        "id": "E5OjO6alMflN",
        "outputId": "608e2fb5-cef3-4c1d-c892-27ac77022c80"
      },
      "execution_count": null,
      "outputs": [
        {
          "output_type": "stream",
          "name": "stdout",
          "text": [
            "8\n",
            "[1, 2, 3, 32, 2.23, 43.28, 'python', [2, 32, 3], [12, 2, 12, 2]]\n",
            "[1, 2, 'pandas', 3, 32, 2.23, 43.28, 'python', [2, 32, 3], [12, 2, 12, 2]]\n",
            "[1, 2, 'pandas', 3, 2.23, 43.28, 'python', [2, 32, 3], [12, 2, 12, 2]]\n",
            "6\n",
            "1\n",
            "None\n",
            "[[12, 2, 12, 2], [2, 32, 3], 'python', 43.28, 2.23, 3, 'pandas', 2, 1]\n",
            "[]\n"
          ]
        }
      ]
    },
    {
      "cell_type": "code",
      "source": [
        "#LIST Slicing\n",
        "\n",
        "list1=[1,2,3,32,2.23,43.28,\"python\",[2,32,3]]\n",
        "\n",
        "print(list1[2:7])\n",
        "print(list1[2:])\n",
        "print(list1[:5])\n",
        "print(list1[:])\n",
        "print(list1[-3:-2])"
      ],
      "metadata": {
        "colab": {
          "base_uri": "https://localhost:8080/"
        },
        "id": "j-Nwb6nkQVIN",
        "outputId": "9571e9cc-c408-4022-ac60-91102a0183b5"
      },
      "execution_count": null,
      "outputs": [
        {
          "output_type": "stream",
          "name": "stdout",
          "text": [
            "[3, 32, 2.23, 43.28, 'python']\n",
            "[3, 32, 2.23, 43.28, 'python', [2, 32, 3]]\n",
            "[1, 2, 3, 32, 2.23]\n",
            "[1, 2, 3, 32, 2.23, 43.28, 'python', [2, 32, 3]]\n",
            "[43.28]\n"
          ]
        }
      ]
    },
    {
      "cell_type": "code",
      "source": [
        "#list sorting\n",
        "\n",
        "list2=[1,2,4,2,5,6,2,6,7,4,5,2,4]\n",
        "\n",
        "list3=sorted(list2)\n",
        "print(list3)\n",
        "print(list2)\n",
        "\n",
        "list2.sort()\n",
        "print(list2)"
      ],
      "metadata": {
        "colab": {
          "base_uri": "https://localhost:8080/"
        },
        "id": "unvfYHfzPRIM",
        "outputId": "8f24aba4-552d-482d-9fc6-c1e0b2bc05ff"
      },
      "execution_count": null,
      "outputs": [
        {
          "output_type": "stream",
          "name": "stdout",
          "text": [
            "[1, 2, 2, 2, 2, 4, 4, 4, 5, 5, 6, 6, 7]\n",
            "[1, 2, 4, 2, 5, 6, 2, 6, 7, 4, 5, 2, 4]\n",
            "[1, 2, 2, 2, 2, 4, 4, 4, 5, 5, 6, 6, 7]\n"
          ]
        }
      ]
    },
    {
      "cell_type": "code",
      "source": [
        "#unpacking Sequences\n",
        "\n",
        "lst=[2,3,423,43]\n",
        "a,b,c,d=lst\n",
        "print(a)\n",
        "print(b)\n",
        "print(c)\n",
        "print(d)"
      ],
      "metadata": {
        "colab": {
          "base_uri": "https://localhost:8080/"
        },
        "id": "iUjHYEldS-79",
        "outputId": "bc558cec-daff-468f-8579-7c06efe31152"
      },
      "execution_count": null,
      "outputs": [
        {
          "output_type": "stream",
          "name": "stdout",
          "text": [
            "2\n",
            "3\n",
            "423\n",
            "43\n"
          ]
        }
      ]
    },
    {
      "cell_type": "markdown",
      "source": [
        "1. Write a python program to print the numbers of a specified list after removing even numbers from it.\n",
        "2. Write a python program to generate and print a list of first and last 5 elements where the values are square of numbers between 1 and 30.\n",
        "3. print common elements between two list."
      ],
      "metadata": {
        "id": "whsEBvmPUilc"
      }
    },
    {
      "cell_type": "code",
      "source": [
        "#1\n",
        "list1=[1,2,3]\n",
        "print(list1)\n",
        "s=len(list1)\n",
        "for i in range(0,s):\n",
        "   if(list1[i]%2!=0):\n",
        "     print(list1[i],end=\" \")"
      ],
      "metadata": {
        "colab": {
          "base_uri": "https://localhost:8080/"
        },
        "id": "WOVtHzp8VVaU",
        "outputId": "a9003eb4-3b5d-4e47-b1c8-76d063164fec"
      },
      "execution_count": null,
      "outputs": [
        {
          "output_type": "stream",
          "name": "stdout",
          "text": [
            "[1, 2, 3]\n",
            "1 3 "
          ]
        }
      ]
    },
    {
      "cell_type": "code",
      "source": [
        "#2\n",
        "list1=[1,2,3,4,5,6,7,8,9,10,11,12,13,14,15,16,17,18,19,20,21,22,23,24,25,26,27,28,29,30]\n",
        "list2=[]\n",
        "list3=[]\n",
        "for i in list1:\n",
        "  if i<6:\n",
        "    list2.append(i**2)\n",
        "  if i>25:\n",
        "    list3.append(i**2)  \n",
        "\n",
        "print(list2)\n",
        "print(list3)"
      ],
      "metadata": {
        "colab": {
          "base_uri": "https://localhost:8080/"
        },
        "id": "ms5Idj42W0ZF",
        "outputId": "704ced56-2e36-44b3-9132-6288bad7b306"
      },
      "execution_count": null,
      "outputs": [
        {
          "output_type": "stream",
          "name": "stdout",
          "text": [
            "[1, 4, 9, 16, 25]\n",
            "[676, 729, 784, 841, 900]\n"
          ]
        }
      ]
    },
    {
      "cell_type": "code",
      "source": [
        "#3\n",
        "list1=[1,2,3,4]\n",
        "list2=[2,4,6,8]\n",
        "list3=[]\n",
        "\n",
        "\n",
        "for i in range(0,4):\n",
        "  for j in range(0,4):\n",
        "    if list1[i]==list2[j]:\n",
        "      list3.append(list1[i])\n",
        "\n",
        "print(list3)      \n"
      ],
      "metadata": {
        "colab": {
          "base_uri": "https://localhost:8080/"
        },
        "id": "w4P20E_KaCvt",
        "outputId": "bf03ede2-78fd-46d5-829d-1d2c764cbb36"
      },
      "execution_count": null,
      "outputs": [
        {
          "output_type": "stream",
          "name": "stdout",
          "text": [
            "[2, 4]\n"
          ]
        }
      ]
    }
  ]
}