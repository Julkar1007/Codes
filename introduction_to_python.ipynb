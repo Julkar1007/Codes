{
  "nbformat": 4,
  "nbformat_minor": 0,
  "metadata": {
    "colab": {
      "provenance": [],
      "collapsed_sections": [
        "WDJrHyDVBGVd"
      ],
      "authorship_tag": "ABX9TyOLqrFXsTbeCCRJMFrkPAVi",
      "include_colab_link": true
    },
    "kernelspec": {
      "name": "python3",
      "display_name": "Python 3"
    },
    "language_info": {
      "name": "python"
    }
  },
  "cells": [
    {
      "cell_type": "markdown",
      "metadata": {
        "id": "view-in-github",
        "colab_type": "text"
      },
      "source": [
        "<a href=\"https://colab.research.google.com/github/Julkar1007/OOP-PROJECT/blob/main/introduction_to_python.ipynb\" target=\"_parent\"><img src=\"https://colab.research.google.com/assets/colab-badge.svg\" alt=\"Open In Colab\"/></a>"
      ]
    },
    {
      "cell_type": "code",
      "execution_count": null,
      "metadata": {
        "colab": {
          "base_uri": "https://localhost:8080/"
        },
        "id": "QHw2T8k_-0tn",
        "outputId": "e3186649-8176-466e-b95d-611cdaadaa55"
      },
      "outputs": [
        {
          "output_type": "stream",
          "name": "stdout",
          "text": [
            "Hello world\n"
          ]
        }
      ],
      "source": [
        "print(\"Hello world\")"
      ]
    },
    {
      "cell_type": "code",
      "source": [],
      "metadata": {
        "id": "ZQMuUvX5BDF9"
      },
      "execution_count": null,
      "outputs": []
    },
    {
      "cell_type": "markdown",
      "source": [
        "# **Variables and assignment statement**"
      ],
      "metadata": {
        "id": "WDJrHyDVBGVd"
      }
    },
    {
      "cell_type": "code",
      "source": [
        "x=7\n",
        "y=10\n",
        "print(x+y)"
      ],
      "metadata": {
        "colab": {
          "base_uri": "https://localhost:8080/"
        },
        "id": "ygHxs_Q9BeeF",
        "outputId": "dafb6cf9-8e40-486a-c876-72b3542e97d7"
      },
      "execution_count": null,
      "outputs": [
        {
          "output_type": "stream",
          "name": "stdout",
          "text": [
            "17\n"
          ]
        }
      ]
    },
    {
      "cell_type": "code",
      "source": [
        "print(type(x))"
      ],
      "metadata": {
        "colab": {
          "base_uri": "https://localhost:8080/"
        },
        "id": "7lFnd0QgCCek",
        "outputId": "c713125f-87e8-4388-dfea-5d3a7e7e9b51"
      },
      "execution_count": null,
      "outputs": [
        {
          "output_type": "stream",
          "name": "stdout",
          "text": [
            "<class 'int'>\n"
          ]
        }
      ]
    },
    {
      "cell_type": "code",
      "source": [
        "total =x+y\n",
        "print(total)"
      ],
      "metadata": {
        "colab": {
          "base_uri": "https://localhost:8080/"
        },
        "id": "bVMp_ZzKCgNt",
        "outputId": "122aa566-5444-46f6-8d44-edf9ae254eeb"
      },
      "execution_count": null,
      "outputs": [
        {
          "output_type": "stream",
          "name": "stdout",
          "text": [
            "17\n"
          ]
        }
      ]
    },
    {
      "cell_type": "code",
      "source": [
        "name= \"gayson bepari\"\n",
        "name2= \"gayson smith\"\n",
        "print(name,name2)\n",
        "print(name+\"\"+name2)"
      ],
      "metadata": {
        "colab": {
          "base_uri": "https://localhost:8080/"
        },
        "id": "V0TESSt4CpId",
        "outputId": "80930442-810f-4666-f7ef-ce31a672aff2"
      },
      "execution_count": null,
      "outputs": [
        {
          "output_type": "stream",
          "name": "stdout",
          "text": [
            "gayson bepari gayson smith\n",
            "gayson beparigayson smith\n"
          ]
        }
      ]
    },
    {
      "cell_type": "code",
      "source": [
        "f=20.20\n",
        "print(f)\n",
        "g=\"bepari\"\n",
        "print(type(f))\n",
        "print(type(g))\n"
      ],
      "metadata": {
        "colab": {
          "base_uri": "https://localhost:8080/"
        },
        "id": "uDqgIf1bDSrt",
        "outputId": "808f21fb-aedd-4943-b19a-457769a9ece2"
      },
      "execution_count": null,
      "outputs": [
        {
          "output_type": "stream",
          "name": "stdout",
          "text": [
            "20.2\n",
            "<class 'float'>\n",
            "<class 'str'>\n"
          ]
        }
      ]
    },
    {
      "cell_type": "markdown",
      "source": [
        "# **Arithmetic Operator**\n"
      ],
      "metadata": {
        "id": "ErztCGmQEDAF"
      }
    },
    {
      "cell_type": "code",
      "source": [
        "multiplication= 5*4\n",
        "print(multiplication)"
      ],
      "metadata": {
        "colab": {
          "base_uri": "https://localhost:8080/"
        },
        "id": "kfgAKdQgERHa",
        "outputId": "f0952c5f-741e-4384-fd46-8a69b834921a"
      },
      "execution_count": null,
      "outputs": [
        {
          "output_type": "stream",
          "name": "stdout",
          "text": [
            "20\n"
          ]
        }
      ]
    },
    {
      "cell_type": "code",
      "source": [
        "add=10+10\n",
        "print(add)"
      ],
      "metadata": {
        "colab": {
          "base_uri": "https://localhost:8080/"
        },
        "id": "C_SX4aOIFGrU",
        "outputId": "7efaa31f-fa64-4a01-9c11-db3f9a0331ef"
      },
      "execution_count": null,
      "outputs": [
        {
          "output_type": "stream",
          "name": "stdout",
          "text": [
            "20\n"
          ]
        }
      ]
    },
    {
      "cell_type": "code",
      "source": [
        "summation =30-10\n",
        "print(summation)"
      ],
      "metadata": {
        "colab": {
          "base_uri": "https://localhost:8080/"
        },
        "id": "GFskj6RZFNed",
        "outputId": "d1b56b28-7d9a-46da-b2f7-1c7257faabcc"
      },
      "execution_count": null,
      "outputs": [
        {
          "output_type": "stream",
          "name": "stdout",
          "text": [
            "20\n"
          ]
        }
      ]
    },
    {
      "cell_type": "code",
      "source": [
        "divider= 20/10\n",
        "print(divider)"
      ],
      "metadata": {
        "colab": {
          "base_uri": "https://localhost:8080/"
        },
        "id": "_0-3GfAXFeP2",
        "outputId": "e193f0e4-8a18-4d51-b479-f5b38119e52e"
      },
      "execution_count": null,
      "outputs": [
        {
          "output_type": "stream",
          "name": "stdout",
          "text": [
            "2.0\n"
          ]
        }
      ]
    },
    {
      "cell_type": "code",
      "source": [
        "exponential=2**3\n",
        "print(exponential)"
      ],
      "metadata": {
        "colab": {
          "base_uri": "https://localhost:8080/"
        },
        "id": "zG3idoljFsc9",
        "outputId": "70d68999-d1c8-459b-9a74-f3d6a8a00cc4"
      },
      "execution_count": null,
      "outputs": [
        {
          "output_type": "stream",
          "name": "stdout",
          "text": [
            "8\n"
          ]
        }
      ]
    },
    {
      "cell_type": "code",
      "source": [
        "reminder= 23/10\n",
        "print(reminder)"
      ],
      "metadata": {
        "colab": {
          "base_uri": "https://localhost:8080/"
        },
        "id": "ay8yM_BpF4Yl",
        "outputId": "348de533-006b-4360-ead2-a1ea5509e735"
      },
      "execution_count": null,
      "outputs": [
        {
          "output_type": "stream",
          "name": "stdout",
          "text": [
            "2.3\n"
          ]
        }
      ]
    },
    {
      "cell_type": "code",
      "source": [
        "floor_division=7//4\n",
        "print(floor_division)"
      ],
      "metadata": {
        "colab": {
          "base_uri": "https://localhost:8080/"
        },
        "id": "5LT5Qfk0GPie",
        "outputId": "ab7adb5b-6734-40cf-d131-d77ae2ec499e"
      },
      "execution_count": null,
      "outputs": [
        {
          "output_type": "stream",
          "name": "stdout",
          "text": [
            "1\n"
          ]
        }
      ]
    },
    {
      "cell_type": "code",
      "source": [
        "true_division=7/4\n",
        "print(true_division)"
      ],
      "metadata": {
        "colab": {
          "base_uri": "https://localhost:8080/"
        },
        "id": "TiruCFgcGe21",
        "outputId": "9cd00f08-bbe2-4eee-bb45-0ba90eaf5bbe"
      },
      "execution_count": null,
      "outputs": [
        {
          "output_type": "stream",
          "name": "stdout",
          "text": [
            "1.75\n"
          ]
        }
      ]
    },
    {
      "cell_type": "markdown",
      "source": [],
      "metadata": {
        "id": "bNdbe738G2DV"
      }
    },
    {
      "cell_type": "markdown",
      "source": [],
      "metadata": {
        "id": "NGrdR2JfHCx9"
      }
    },
    {
      "cell_type": "markdown",
      "source": [
        "# **Relational Operator**"
      ],
      "metadata": {
        "id": "9bpJld-1HHL9"
      }
    },
    {
      "cell_type": "code",
      "source": [
        "x=105\n",
        "y=100\n",
        "x>y"
      ],
      "metadata": {
        "colab": {
          "base_uri": "https://localhost:8080/"
        },
        "id": "i965XADvHKtV",
        "outputId": "a4544492-5cee-4bef-8926-aa19970677a4"
      },
      "execution_count": null,
      "outputs": [
        {
          "output_type": "execute_result",
          "data": {
            "text/plain": [
              "True"
            ]
          },
          "metadata": {},
          "execution_count": 22
        }
      ]
    },
    {
      "cell_type": "code",
      "source": [
        "x=3\n",
        "1<=x<=5"
      ],
      "metadata": {
        "colab": {
          "base_uri": "https://localhost:8080/"
        },
        "id": "8X1yi043HqWN",
        "outputId": "6ebc04ca-59f7-4567-f90d-b23ebdfa4832"
      },
      "execution_count": null,
      "outputs": [
        {
          "output_type": "execute_result",
          "data": {
            "text/plain": [
              "True"
            ]
          },
          "metadata": {},
          "execution_count": 26
        }
      ]
    },
    {
      "cell_type": "code",
      "source": [
        "print(\"welcome\\ngayson\")"
      ],
      "metadata": {
        "colab": {
          "base_uri": "https://localhost:8080/"
        },
        "id": "OjRHEApoIrAl",
        "outputId": "5c51a2f6-85aa-44e8-f635-080113f5611c"
      },
      "execution_count": null,
      "outputs": [
        {
          "output_type": "stream",
          "name": "stdout",
          "text": [
            "welcome\n",
            "gayson\n"
          ]
        }
      ]
    },
    {
      "cell_type": "code",
      "source": [
        "print(\"sum is\", 2+2)"
      ],
      "metadata": {
        "colab": {
          "base_uri": "https://localhost:8080/"
        },
        "id": "w27GyYyPJDeN",
        "outputId": "71a7d969-2ca2-4030-eaaf-6c514a8e1744"
      },
      "execution_count": null,
      "outputs": [
        {
          "output_type": "stream",
          "name": "stdout",
          "text": [
            "sum is 4\n"
          ]
        }
      ]
    },
    {
      "cell_type": "code",
      "source": [
        "print(\"int(5.2)\", \"truncates 5.2 to\" , int(5.2))"
      ],
      "metadata": {
        "colab": {
          "base_uri": "https://localhost:8080/"
        },
        "id": "OnL_wqN5JRqV",
        "outputId": "6c1d60a8-3049-4609-b442-bb3947801345"
      },
      "execution_count": null,
      "outputs": [
        {
          "output_type": "stream",
          "name": "stdout",
          "text": [
            "int(5.2) truncates 5.2 to 5\n"
          ]
        }
      ]
    },
    {
      "cell_type": "code",
      "source": [
        "print(\"Display \\\"hi\\\" in quotos\")"
      ],
      "metadata": {
        "colab": {
          "base_uri": "https://localhost:8080/"
        },
        "id": "rEaopb8NJvLt",
        "outputId": "69dfeb51-9592-47c6-aaac-0d903edb60ca"
      },
      "execution_count": null,
      "outputs": [
        {
          "output_type": "stream",
          "name": "stdout",
          "text": [
            "Display \"hi\" in quotos\n"
          ]
        }
      ]
    },
    {
      "cell_type": "code",
      "source": [
        "a=3.141618\n",
        "print(\"%.4f\" %a)"
      ],
      "metadata": {
        "colab": {
          "base_uri": "https://localhost:8080/"
        },
        "id": "E_kUrzSCKCst",
        "outputId": "b062ca1f-73cf-4308-978a-995c5c1b14fb"
      },
      "execution_count": null,
      "outputs": [
        {
          "output_type": "stream",
          "name": "stdout",
          "text": [
            "3.1416\n"
          ]
        }
      ]
    },
    {
      "cell_type": "markdown",
      "source": [
        "# **Getting input from user**"
      ],
      "metadata": {
        "id": "b6CqtBm4KWst"
      }
    },
    {
      "cell_type": "code",
      "source": [
        "name= input(\"what is your name\")"
      ],
      "metadata": {
        "colab": {
          "base_uri": "https://localhost:8080/"
        },
        "id": "UHJQ9fszKaJV",
        "outputId": "c493db8b-485c-42fc-d43e-243bd5e3ae8c"
      },
      "execution_count": null,
      "outputs": [
        {
          "name": "stdout",
          "output_type": "stream",
          "text": [
            "what is your nameJulkar\n"
          ]
        }
      ]
    },
    {
      "cell_type": "code",
      "source": [
        "print(name)"
      ],
      "metadata": {
        "colab": {
          "base_uri": "https://localhost:8080/"
        },
        "id": "7jd-8qWtKpZt",
        "outputId": "c0b33b7b-92ba-4ad3-fd0e-e3a39b939324"
      },
      "execution_count": null,
      "outputs": [
        {
          "output_type": "stream",
          "name": "stdout",
          "text": [
            "Julkar\n"
          ]
        }
      ]
    },
    {
      "cell_type": "code",
      "source": [
        "a=int (input(\"enter first number:\"))\n",
        "b=int (input(\"enter second number:\"))"
      ],
      "metadata": {
        "colab": {
          "base_uri": "https://localhost:8080/"
        },
        "id": "Oj7f-N20K1Wt",
        "outputId": "e215afa1-4bba-4088-db1d-a26f9cbe0bdb"
      },
      "execution_count": null,
      "outputs": [
        {
          "name": "stdout",
          "output_type": "stream",
          "text": [
            "enter first number:10\n",
            "enter second number:10\n"
          ]
        }
      ]
    },
    {
      "cell_type": "code",
      "source": [
        "total= a+b\n",
        "print(total)"
      ],
      "metadata": {
        "colab": {
          "base_uri": "https://localhost:8080/"
        },
        "id": "cZ_np-1oLe6d",
        "outputId": "2a3a1135-fb21-404e-e5e5-e9afa39652f4"
      },
      "execution_count": null,
      "outputs": [
        {
          "output_type": "stream",
          "name": "stdout",
          "text": [
            "20\n"
          ]
        }
      ]
    },
    {
      "cell_type": "code",
      "source": [
        "a,b,c=input().split()\n",
        "print(a+b+c)"
      ],
      "metadata": {
        "colab": {
          "base_uri": "https://localhost:8080/"
        },
        "id": "E3HNfubrMYT9",
        "outputId": "328cb07e-3718-42b3-b5f3-e4544c33f194"
      },
      "execution_count": null,
      "outputs": [
        {
          "output_type": "stream",
          "name": "stdout",
          "text": [
            "10 20 30\n",
            "102030\n"
          ]
        }
      ]
    },
    {
      "cell_type": "markdown",
      "source": [
        "# **Problem1**"
      ],
      "metadata": {
        "id": "0INu_EJ0NKj1"
      }
    },
    {
      "cell_type": "code",
      "source": [
        "x=2\n",
        "y=3\n",
        "print('x=' ,x)\n",
        "print('Value of', x ,'+', x, 'is',(x+y))\n",
        "print('x=')\n",
        "print((x+y),'=',(y+x))"
      ],
      "metadata": {
        "colab": {
          "base_uri": "https://localhost:8080/"
        },
        "id": "mg3Lg9vPNNEN",
        "outputId": "2ffd2af8-ea84-44f9-f995-50d20ec68241"
      },
      "execution_count": null,
      "outputs": [
        {
          "output_type": "stream",
          "name": "stdout",
          "text": [
            "x= 2\n",
            "Value of 2 + 2 is 5\n",
            "x=\n",
            "5 = 5\n"
          ]
        }
      ]
    },
    {
      "cell_type": "code",
      "source": [],
      "metadata": {
        "id": "gw2Oct8ZOmA9"
      },
      "execution_count": null,
      "outputs": []
    },
    {
      "cell_type": "code",
      "source": [
        "a1 = int(input(\"Enter the first number\"))\n",
        "print(a1)"
      ],
      "metadata": {
        "colab": {
          "base_uri": "https://localhost:8080/"
        },
        "id": "i5_Txe9pOmKd",
        "outputId": "801e034b-9669-45bc-e59d-77c3970b2f54"
      },
      "execution_count": null,
      "outputs": [
        {
          "output_type": "stream",
          "name": "stdout",
          "text": [
            "Enter the first number1\n",
            "1\n"
          ]
        }
      ]
    }
  ]
}